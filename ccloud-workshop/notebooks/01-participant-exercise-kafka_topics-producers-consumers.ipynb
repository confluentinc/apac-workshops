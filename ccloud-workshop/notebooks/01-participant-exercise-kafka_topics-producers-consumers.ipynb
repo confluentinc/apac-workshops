{
 "cells": [
  {
   "cell_type": "markdown",
   "id": "searching-still",
   "metadata": {},
   "source": [
    "# Login to Confluent Cloud"
   ]
  },
  {
   "cell_type": "code",
   "execution_count": 8,
   "id": "mobile-combination",
   "metadata": {},
   "outputs": [
    {
     "name": "stdout",
     "output_type": "stream",
     "text": [
      "Logged in as \"naveen.nandan+gcp3@confluent.io\".\n",
      "Using environment \"env-676q8\" (\"default\").\n",
      "      Id      |     Name      \n",
      "+-------------+--------------+\n",
      "  * env-676q8 | default       \n",
      "    env-p5xpm | bni-batch-1a  \n",
      "    env-vyw20 | bni-batch-1b  \n",
      "    env-9gyvm | bni-batch-1c  \n"
     ]
    }
   ],
   "source": [
    "%%bash\n",
    "export CCLOUD_EMAIL=naveen.nandan+gcp3@confluent.io\n",
    "export CCLOUD_PASSWORD=C0nflu3nt@gcp3\n",
    "export PATH=$PATH:ccloud\n",
    "ccloud login\n",
    "ccloud environment list"
   ]
  },
  {
   "cell_type": "code",
   "execution_count": 9,
   "id": "covered-speech",
   "metadata": {},
   "outputs": [
    {
     "name": "stdout",
     "output_type": "stream",
     "text": [
      "Now using \"env-9gyvm\" as the default (active) environment.\n",
      "      Id      |     Name      | Type  | Provider |     Region      | Availability | Status  \n",
      "+-------------+---------------+-------+----------+-----------------+--------------+--------+\n",
      "    lkc-w0xqj | participant22 | BASIC | gcp      | asia-southeast2 | single-zone  | UP      \n",
      "    lkc-mnyd2 | participant21 | BASIC | gcp      | asia-southeast2 | single-zone  | UP      \n",
      "    lkc-0k719 | admin         | BASIC | gcp      | asia-southeast2 | single-zone  | UP      \n"
     ]
    }
   ],
   "source": [
    "%%bash\n",
    "export PATH=$PATH:ccloud\n",
    "ccloud environment use env-9gyvm\n",
    "ccloud kafka cluster list"
   ]
  },
  {
   "cell_type": "code",
   "execution_count": 10,
   "id": "continental-custody",
   "metadata": {},
   "outputs": [
    {
     "name": "stderr",
     "output_type": "stream",
     "text": [
      "Set Kafka cluster \"lkc-0k719\" as the active cluster for environment \"env-9gyvm\".\n"
     ]
    }
   ],
   "source": [
    "%%bash\n",
    "export PATH=$PATH:ccloud\n",
    "ccloud kafka cluster use 'lkc-0k719'"
   ]
  },
  {
   "cell_type": "markdown",
   "id": "desperate-trance",
   "metadata": {},
   "source": [
    "# Create Kafka Topic"
   ]
  },
  {
   "cell_type": "code",
   "execution_count": 21,
   "id": "cheap-carry",
   "metadata": {},
   "outputs": [
    {
     "name": "stdout",
     "output_type": "stream",
     "text": [
      "Created topic \"test-topic\".\n"
     ]
    }
   ],
   "source": [
    "%%bash\n",
    "export PATH=$PATH:ccloud\n",
    "ccloud kafka topic create test-topic"
   ]
  },
  {
   "cell_type": "markdown",
   "id": "private-officer",
   "metadata": {},
   "source": [
    "## TODO: Find your API Key to use in the next step (Hint: https://docs.confluent.io/ccloud-cli/current/command-reference/api-key/ccloud_api-key_list.html)"
   ]
  },
  {
   "cell_type": "code",
   "execution_count": null,
   "id": "statewide-david",
   "metadata": {},
   "outputs": [],
   "source": [
    "%%bash\n",
    "export PATH=$PATH:ccloud\n",
    "ccloud <replace with command>"
   ]
  },
  {
   "cell_type": "markdown",
   "id": "judicial-immigration",
   "metadata": {},
   "source": [
    "# Produce to Kafka Topic"
   ]
  },
  {
   "cell_type": "code",
   "execution_count": 11,
   "id": "permanent-animation",
   "metadata": {},
   "outputs": [
    {
     "name": "stderr",
     "output_type": "stream",
     "text": [
      "Starting Kafka Producer. ^C or ^D to exit\n"
     ]
    }
   ],
   "source": [
    "%%bash\n",
    "export PATH=$PATH:ccloud\n",
    "echo 'hello kafka' | ccloud kafka topic produce test-topic --api-key DVWJBMS4P4T2HOZJ --api-secret QqkSBX2unE+jGW8o4CvmC75bvdeGg5q8xqNB645oHAfx6zdSNUQRrqR40aEByvmW"
   ]
  },
  {
   "cell_type": "markdown",
   "id": "marine-earth",
   "metadata": {},
   "source": [
    "# Consume from Kafka Topic"
   ]
  },
  {
   "cell_type": "code",
   "execution_count": 12,
   "id": "temporal-consultation",
   "metadata": {},
   "outputs": [
    {
     "name": "stdout",
     "output_type": "stream",
     "text": [
      "Process is interrupted.\n"
     ]
    }
   ],
   "source": [
    "%%bash\n",
    "export PATH=$PATH:ccloud\n",
    "ccloud kafka topic consume test-topic --from-beginning --api-key DVWJBMS4P4T2HOZJ --api-secret QqkSBX2unE+jGW8o4CvmC75bvdeGg5q8xqNB645oHAfx6zdSNUQRrqR40aEByvmW"
   ]
  },
  {
   "cell_type": "code",
   "execution_count": null,
   "id": "burning-revolution",
   "metadata": {},
   "outputs": [],
   "source": []
  }
 ],
 "metadata": {
  "kernelspec": {
   "display_name": "Python 3",
   "language": "python",
   "name": "python3"
  },
  "language_info": {
   "codemirror_mode": {
    "name": "ipython",
    "version": 3
   },
   "file_extension": ".py",
   "mimetype": "text/x-python",
   "name": "python",
   "nbconvert_exporter": "python",
   "pygments_lexer": "ipython3",
   "version": "3.8.8"
  }
 },
 "nbformat": 4,
 "nbformat_minor": 5
}
