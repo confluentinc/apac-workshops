{
 "cells": [
  {
   "cell_type": "markdown",
   "metadata": {},
   "source": [
    "# Workshop Setup"
   ]
  },
  {
   "cell_type": "markdown",
   "metadata": {},
   "source": [
    "![title](setup.png)"
   ]
  },
  {
   "cell_type": "markdown",
   "metadata": {},
   "source": [
    "# Installing Prerequisites"
   ]
  },
  {
   "cell_type": "code",
   "execution_count": null,
   "metadata": {},
   "outputs": [],
   "source": [
    "%%bash\n",
    "wget https://s3-us-west-2.amazonaws.com/confluent.cloud/ccloud-cli/archives/latest/ccloud_latest_linux_amd64.tar.gz\n",
    "tar -xzvf ccloud_latest_linux_amd64.tar.gz"
   ]
  },
  {
   "cell_type": "code",
   "execution_count": null,
   "metadata": {},
   "outputs": [],
   "source": [
    "%%bash\n",
    "export PATH=$PATH:ccloud\n",
    "ccloud --help"
   ]
  },
  {
   "cell_type": "code",
   "execution_count": 1,
   "metadata": {},
   "outputs": [
    {
     "name": "stdout",
     "output_type": "stream",
     "text": [
      "Collecting confluent-kafka\n",
      "  Downloading confluent_kafka-1.6.0-cp38-cp38-manylinux2010_x86_64.whl (2.7 MB)\n",
      "Installing collected packages: confluent-kafka\n",
      "Successfully installed confluent-kafka-1.6.0\n",
      "Requirement already satisfied: confluent-kafka[avro] in /opt/conda/lib/python3.8/site-packages (1.6.0)\n",
      "Requirement already satisfied: requests in /opt/conda/lib/python3.8/site-packages (from confluent-kafka[avro]) (2.25.1)\n",
      "Collecting fastavro>=1.0\n",
      "  Downloading fastavro-1.3.3-cp38-cp38-manylinux2014_x86_64.whl (2.6 MB)\n",
      "Collecting avro-python3==1.10.0\n",
      "  Downloading avro-python3-1.10.0.tar.gz (37 kB)\n",
      "Requirement already satisfied: urllib3<1.27,>=1.21.1 in /opt/conda/lib/python3.8/site-packages (from requests->confluent-kafka[avro]) (1.26.3)\n",
      "Requirement already satisfied: idna<3,>=2.5 in /opt/conda/lib/python3.8/site-packages (from requests->confluent-kafka[avro]) (2.10)\n",
      "Requirement already satisfied: chardet<5,>=3.0.2 in /opt/conda/lib/python3.8/site-packages (from requests->confluent-kafka[avro]) (4.0.0)\n",
      "Requirement already satisfied: certifi>=2017.4.17 in /opt/conda/lib/python3.8/site-packages (from requests->confluent-kafka[avro]) (2020.12.5)\n",
      "Building wheels for collected packages: avro-python3\n",
      "  Building wheel for avro-python3 (setup.py): started\n",
      "  Building wheel for avro-python3 (setup.py): finished with status 'done'\n",
      "  Created wheel for avro-python3: filename=avro_python3-1.10.0-py3-none-any.whl size=43734 sha256=fb8c6f84f8f11e703b86ef35cbd4ce680f3565e4755cb17f5e610002fa175bde\n",
      "  Stored in directory: /home/jovyan/.cache/pip/wheels/52/db/5d/a6a6e9cd4c5d626432ce8258a0141de4f34cd7e68d79e9c4f4\n",
      "Successfully built avro-python3\n",
      "Installing collected packages: fastavro, avro-python3\n",
      "Successfully installed avro-python3-1.10.0 fastavro-1.3.3\n"
     ]
    }
   ],
   "source": [
    "%%bash\n",
    "pip install confluent-kafka\n",
    "pip install \"confluent-kafka[avro]\""
   ]
  },
  {
   "cell_type": "code",
   "execution_count": null,
   "metadata": {},
   "outputs": [],
   "source": []
  }
 ],
 "metadata": {
  "kernelspec": {
   "display_name": "Python 3",
   "language": "python",
   "name": "python3"
  },
  "language_info": {
   "codemirror_mode": {
    "name": "ipython",
    "version": 3
   },
   "file_extension": ".py",
   "mimetype": "text/x-python",
   "name": "python",
   "nbconvert_exporter": "python",
   "pygments_lexer": "ipython3",
   "version": "3.7.4"
  }
 },
 "nbformat": 4,
 "nbformat_minor": 5
}
