{
 "cells": [
  {
   "cell_type": "markdown",
   "metadata": {},
   "source": [
    "# Login to Confluent Cloud"
   ]
  },
  {
   "cell_type": "code",
   "execution_count": null,
   "metadata": {},
   "outputs": [],
   "source": [
    "%%bash\n",
    "export CCLOUD_EMAIL=\n",
    "export CCLOUD_PASSWORD=\n",
    "export PATH=$PATH:ccloud\n",
    "ccloud login\n",
    "ccloud environment list"
   ]
  },
  {
   "cell_type": "code",
   "execution_count": 2,
   "metadata": {},
   "outputs": [
    {
     "name": "stdout",
     "output_type": "stream",
     "text": [
      "Now using \"env-9gyvm\" as the default (active) environment.\n",
      "      Id      |     Name      | Type  | Provider |     Region      | Availability | Status  \n",
      "+-------------+---------------+-------+----------+-----------------+--------------+--------+\n",
      "    lkc-w0xqj | participant22 | BASIC | gcp      | asia-southeast2 | single-zone  | UP      \n",
      "    lkc-mnyd2 | participant21 | BASIC | gcp      | asia-southeast2 | single-zone  | UP      \n",
      "  * lkc-0k719 | admin         | BASIC | gcp      | asia-southeast2 | single-zone  | UP      \n"
     ]
    }
   ],
   "source": [
    "%%bash\n",
    "export PATH=$PATH:ccloud\n",
    "ccloud environment use 'env-9gyvm'\n",
    "ccloud kafka cluster list"
   ]
  },
  {
   "cell_type": "markdown",
   "metadata": {},
   "source": [
    "# Create ksqlDB app"
   ]
  },
  {
   "cell_type": "code",
   "execution_count": 5,
   "metadata": {},
   "outputs": [
    {
     "name": "stdout",
     "output_type": "stream",
     "text": [
      "+--------------+--------------------------------------------------------------+\n",
      "| Id           | lksqlc-rgo80                                                 |\n",
      "| Name         | adminksqlapp                                                 |\n",
      "| Topic Prefix | pksqlc-w7q3m                                                 |\n",
      "| Kafka        | lkc-0k719                                                    |\n",
      "| Storage      |                                                          500 |\n",
      "| Endpoint     | https://pksqlc-w7q3m.asia-southeast2.gcp.confluent.cloud:443 |\n",
      "| Status       | PROVISIONING                                                 |\n",
      "+--------------+--------------------------------------------------------------+\n"
     ]
    },
    {
     "name": "stderr",
     "output_type": "stream",
     "text": [
      "(DEPRECATED) In a future release, api-key and api-secret will be required flags when creating a ksql cluster.\n"
     ]
    }
   ],
   "source": [
    "%%bash\n",
    "export PATH=$PATH:ccloud\n",
    "# ccloud ksql app create adminksqlapp --cluster lkc-0k719"
   ]
  },
  {
   "cell_type": "code",
   "execution_count": 1,
   "metadata": {},
   "outputs": [
    {
     "name": "stdout",
     "output_type": "stream",
     "text": [
      "       Id      |     Name     | Topic Prefix |   Kafka   | Storage |                           Endpoint                           | Status  \n",
      "+--------------+--------------+--------------+-----------+---------+--------------------------------------------------------------+--------+\n",
      "  lksqlc-x08ox | ksqlDB_app_2 | pksqlc-8193r | lkc-0k719 |     500 | https://pksqlc-8193r.asia-southeast2.gcp.confluent.cloud:443 | UP      \n",
      "  lksqlc-v92pn | ksqlDB_app_1 | pksqlc-0x1v2 | lkc-0k719 |     500 | https://pksqlc-0x1v2.asia-southeast2.gcp.confluent.cloud:443 | UP      \n"
     ]
    }
   ],
   "source": [
    "%%bash\n",
    "export PATH=$PATH:ccloud\n",
    "ccloud ksql app list"
   ]
  },
  {
   "cell_type": "code",
   "execution_count": 4,
   "metadata": {},
   "outputs": [
    {
     "name": "stdout",
     "output_type": "stream",
     "text": [
      "+--------------+--------------------------------------------------------------+\n",
      "| Id           | lksqlc-v92pn                                                 |\n",
      "| Name         | ksqlDB_app_1                                                 |\n",
      "| Topic Prefix | pksqlc-0x1v2                                                 |\n",
      "| Kafka        | lkc-0k719                                                    |\n",
      "| Storage      |                                                          500 |\n",
      "| Endpoint     | https://pksqlc-0x1v2.asia-southeast2.gcp.confluent.cloud:443 |\n",
      "| Status       | UP                                                           |\n",
      "+--------------+--------------------------------------------------------------+\n"
     ]
    }
   ],
   "source": [
    "%%bash\n",
    "export PATH=$PATH:ccloud\n",
    "ccloud ksql app describe lksqlc-v92pn"
   ]
  },
  {
   "cell_type": "code",
   "execution_count": 6,
   "metadata": {},
   "outputs": [
    {
     "name": "stdout",
     "output_type": "stream",
     "text": [
      "+--------------+--------------------------------------------------------------+\n",
      "| Id           | lksqlc-x08ox                                                 |\n",
      "| Name         | ksqlDB_app_2                                                 |\n",
      "| Topic Prefix | pksqlc-8193r                                                 |\n",
      "| Kafka        | lkc-0k719                                                    |\n",
      "| Storage      |                                                          500 |\n",
      "| Endpoint     | https://pksqlc-8193r.asia-southeast2.gcp.confluent.cloud:443 |\n",
      "| Status       | UP                                                           |\n",
      "+--------------+--------------------------------------------------------------+\n",
      "    Id   |     Name      |          Description            \n",
      "+--------+---------------+--------------------------------+\n",
      "  189051 | dev-producers | dev producer apps               \n",
      "  199670 | test1         | ksqlDB service account          \n",
      "  199671 | test2         | ksqlDB service account          \n",
      "         |               | workshop                        \n"
     ]
    }
   ],
   "source": [
    "%%bash\n",
    "export PATH=$PATH:ccloud\n",
    "ccloud ksql app describe lksqlc-x08ox\n",
    "ccloud service-account list"
   ]
  },
  {
   "cell_type": "code",
   "execution_count": 2,
   "metadata": {},
   "outputs": [
    {
     "name": "stdout",
     "output_type": "stream",
     "text": [
      "  ServiceAccountId | Permission | Operation | Resource |         Name          |  Type    \n",
      "+------------------+------------+-----------+----------+-----------------------+---------+\n",
      "  User:199670      | ALLOW      | CREATE    | TOPIC    | admin_mqconnect_keyed | LITERAL  \n",
      "  ServiceAccountId | Permission | Operation | Resource |         Name          |  Type    \n",
      "+------------------+------------+-----------+----------+-----------------------+---------+\n",
      "  User:199670      | ALLOW      | WRITE     | TOPIC    | admin_mqconnect_keyed | LITERAL  \n",
      "  ServiceAccountId | Permission | Operation | Resource |         Name          |  Type    \n",
      "+------------------+------------+-----------+----------+-----------------------+---------+\n",
      "  User:199670      | ALLOW      | READ      | TOPIC    | admin_mqconnect_keyed | LITERAL  \n",
      "  ServiceAccountId | Permission | Operation | Resource |  Name   |  Type    \n",
      "+------------------+------------+-----------+----------+---------+---------+\n",
      "  User:199670      | ALLOW      | READ      | TOPIC    | mqtopic | LITERAL  \n"
     ]
    }
   ],
   "source": [
    "%%bash\n",
    "export PATH=$PATH:ccloud\n",
    "\n",
    "ccloud kafka acl create --allow --service-account 199670 --operation READ --topic 'mqtopic'\n",
    "ccloud kafka acl create --allow --service-account 199670 --operation CREATE --topic 'admin_mqconnect_keyed'\n",
    "ccloud kafka acl create --allow --service-account 199670 --operation WRITE --topic 'admin_mqconnect_keyed'\n",
    "ccloud kafka acl create --allow --service-account 199670 --operation READ --topic 'admin_mqconnect_keyed'"
   ]
  },
  {
   "cell_type": "code",
   "execution_count": null,
   "metadata": {},
   "outputs": [],
   "source": [
    "# create stream admin_connect (text varchar) with (kafka_topic='mqtopic', value_format='AVRO');\n",
    "\n",
    "# create stream admin_mqconnect_keyed\n",
    "#  with(kafka_topic='admin_mqconnect_keyed') as\n",
    "# select\n",
    "# EXTRACTJSONFIELD(TEXT, '$.custid') as CUSTID,\n",
    "# EXTRACTJSONFIELD(TEXT, '$.custname') as CUSTNAME,\n",
    "# EXTRACTJSONFIELD(TEXT, '$.account.id') as ACCOUNTID,\n",
    "# EXTRACTJSONFIELD(TEXT, '$.account.type') as ACCOUNTTYPE\n",
    "# from admin_connect\n",
    "# partition by EXTRACTJSONFIELD(TEXT, '$.orderId')\n",
    "# emit changes;\n",
    "\n",
    "# select * from mq_text_json_payload_keyed emit changes;"
   ]
  }
 ],
 "metadata": {
  "kernelspec": {
   "display_name": "Python 3",
   "language": "python",
   "name": "python3"
  },
  "language_info": {
   "codemirror_mode": {
    "name": "ipython",
    "version": 3
   },
   "file_extension": ".py",
   "mimetype": "text/x-python",
   "name": "python",
   "nbconvert_exporter": "python",
   "pygments_lexer": "ipython3",
   "version": "3.7.4"
  }
 },
 "nbformat": 4,
 "nbformat_minor": 5
}
