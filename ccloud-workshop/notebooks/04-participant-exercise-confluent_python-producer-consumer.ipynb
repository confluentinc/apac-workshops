{
 "cells": [
  {
   "cell_type": "code",
   "execution_count": 2,
   "id": "sunset-grenada",
   "metadata": {},
   "outputs": [
    {
     "name": "stdout",
     "output_type": "stream",
     "text": [
      "produced to: test-topic [0] @ 2\n",
      "consumed: b'hello kafka'\n",
      "consumed: b'hello kafka'\n",
      "consumed: b'python test value'\n",
      "consumed: b'hello kafka'\n",
      "consumed: b'hello kafka'\n",
      "consumed: b'hello kafka'\n",
      "consumed: b'python test value'\n",
      "consumed: b'hello kafka'\n",
      "consumed: b'hello kafka'\n"
     ]
    }
   ],
   "source": [
    "import uuid\n",
    "\n",
    "from confluent_kafka import Producer, Consumer\n",
    "\n",
    "\n",
    "p = Producer({\n",
    "    'bootstrap.servers': 'pkc-ew3qg.asia-southeast2.gcp.confluent.cloud:9092',\n",
    "    'sasl.mechanism': 'PLAIN',\n",
    "    'security.protocol': 'SASL_SSL',\n",
    "    'sasl.username': 'DVWJBMS4P4T2HOZJ',\n",
    "    'sasl.password': 'QqkSBX2unE+jGW8o4CvmC75bvdeGg5q8xqNB645oHAfx6zdSNUQRrqR40aEByvmW'\n",
    "})\n",
    "\n",
    "\n",
    "def acked(err, msg):\n",
    "    \"\"\"Delivery report callback called (from flush()) on successful or failed delivery of the message.\"\"\"\n",
    "    if err is not None:\n",
    "        print(\"failed to deliver message: {}\".format(err.str()))\n",
    "    else:\n",
    "        print(\"produced to: {} [{}] @ {}\".format(msg.topic(), msg.partition(), msg.offset()))\n",
    "\n",
    "\n",
    "p.produce('test-topic', value='python test value', callback=acked)\n",
    "\n",
    "# flush() is typically called when the producer is done sending messages to wait\n",
    "# for outstanding messages to be transmitted to the broker and delivery report\n",
    "# callbacks to get called. For continous producing you should call p.poll(0)\n",
    "# after each produce() call to trigger delivery report callbacks.\n",
    "p.flush(10)\n",
    "\n",
    "c = Consumer({\n",
    "    'bootstrap.servers': 'pkc-ew3qg.asia-southeast2.gcp.confluent.cloud:9092',\n",
    "    'sasl.mechanism': 'PLAIN',\n",
    "    'security.protocol': 'SASL_SSL',\n",
    "    'sasl.username': 'DVWJBMS4P4T2HOZJ',\n",
    "    'sasl.password': 'QqkSBX2unE+jGW8o4CvmC75bvdeGg5q8xqNB645oHAfx6zdSNUQRrqR40aEByvmW',\n",
    "    'group.id': str(uuid.uuid1()),  # this will create a new consumer group on each invocation.\n",
    "    'auto.offset.reset': 'earliest'\n",
    "})\n",
    "\n",
    "c.subscribe(['test-topic'])\n",
    "\n",
    "try:\n",
    "    while True:\n",
    "        msg = c.poll(0.1)  # Wait for message or event/error\n",
    "        if msg is None:\n",
    "            # No message available within timeout.\n",
    "            # Initial message consumption may take up to `session.timeout.ms` for\n",
    "            #   the group to rebalance and start consuming.\n",
    "            continue\n",
    "        if msg.error():\n",
    "            # Errors are typically temporary, print error and continue.\n",
    "            print(\"Consumer error: {}\".format(msg.error()))\n",
    "            continue\n",
    "\n",
    "        print('consumed: {}'.format(msg.value()))\n",
    "\n",
    "except KeyboardInterrupt:\n",
    "    pass\n",
    "\n",
    "finally:\n",
    "    # Leave group and commit final offsets\n",
    "    c.close()"
   ]
  },
  {
   "cell_type": "code",
   "execution_count": null,
   "id": "informal-coffee",
   "metadata": {},
   "outputs": [],
   "source": []
  }
 ],
 "metadata": {
  "kernelspec": {
   "display_name": "Python 3",
   "language": "python",
   "name": "python3"
  },
  "language_info": {
   "codemirror_mode": {
    "name": "ipython",
    "version": 3
   },
   "file_extension": ".py",
   "mimetype": "text/x-python",
   "name": "python",
   "nbconvert_exporter": "python",
   "pygments_lexer": "ipython3",
   "version": "3.8.8"
  }
 },
 "nbformat": 4,
 "nbformat_minor": 5
}
