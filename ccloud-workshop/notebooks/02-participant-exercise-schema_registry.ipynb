{
 "cells": [
  {
   "cell_type": "markdown",
   "id": "known-devices",
   "metadata": {},
   "source": [
    "# Login to Confluent Cloud"
   ]
  },
  {
   "cell_type": "code",
   "execution_count": 1,
   "id": "comparable-contents",
   "metadata": {},
   "outputs": [
    {
     "name": "stdout",
     "output_type": "stream",
     "text": [
      "Logged in as \"naveen.nandan+gcp3@confluent.io\".\n",
      "Using environment \"env-9gyvm\" (\"bni-batch-1c\").\n"
     ]
    }
   ],
   "source": [
    "%%bash\n",
    "export CCLOUD_EMAIL=naveen.nandan+gcp3@confluent.io\n",
    "export CCLOUD_PASSWORD=C0nflu3nt@gcp3\n",
    "export PATH=$PATH:ccloud\n",
    "ccloud login"
   ]
  },
  {
   "cell_type": "code",
   "execution_count": 2,
   "id": "printable-belfast",
   "metadata": {},
   "outputs": [
    {
     "name": "stdout",
     "output_type": "stream",
     "text": [
      "      Id      |     Name      | Type  | Provider |     Region      | Availability | Status  \n",
      "+-------------+---------------+-------+----------+-----------------+--------------+--------+\n",
      "    lkc-w0xqj | participant22 | BASIC | gcp      | asia-southeast2 | single-zone  | UP      \n",
      "    lkc-mnyd2 | participant21 | BASIC | gcp      | asia-southeast2 | single-zone  | UP      \n",
      "  * lkc-0k719 | admin         | BASIC | gcp      | asia-southeast2 | single-zone  | UP      \n"
     ]
    }
   ],
   "source": [
    "%%bash\n",
    "export PATH=$PATH:ccloud\n",
    "ccloud kafka cluster list"
   ]
  },
  {
   "cell_type": "markdown",
   "id": "rental-bouquet",
   "metadata": {},
   "source": [
    "# Confluent Cloud Schema Registry"
   ]
  },
  {
   "cell_type": "code",
   "execution_count": 9,
   "id": "stock-baseline",
   "metadata": {},
   "outputs": [
    {
     "name": "stdout",
     "output_type": "stream",
     "text": [
      "Created topic \"employees\".\n"
     ]
    }
   ],
   "source": [
    "%%bash\n",
    "export PATH=$PATH:ccloud\n",
    "ccloud kafka topic create employees"
   ]
  },
  {
   "cell_type": "code",
   "execution_count": 11,
   "id": "superb-horizon",
   "metadata": {},
   "outputs": [
    {
     "name": "stdout",
     "output_type": "stream",
     "text": [
      "Successfully registered schema with ID 100001\n"
     ]
    }
   ],
   "source": [
    "%%bash\n",
    "export PATH=$PATH:ccloud\n",
    "ccloud schema-registry schema create --subject employees-value --schema employees.json --type AVRO --api-key 275FNQY4DKTHSFOJ --api-secret cmyhWIsCVaLXouCHKDpSNl0ciFmTkeJyePYjXNY6E/WTqvX0hk2MhVC4PW4BqdY+"
   ]
  },
  {
   "cell_type": "code",
   "execution_count": 12,
   "id": "sublime-session",
   "metadata": {},
   "outputs": [
    {
     "name": "stdout",
     "output_type": "stream",
     "text": [
      "Schema: {\"type\":\"record\",\"name\":\"Employee\",\"namespace\":\"Example\",\"fields\":[{\"name\":\"Name\",\"type\":\"string\"},{\"name\":\"Age\",\"type\":\"int\"}]}\n"
     ]
    }
   ],
   "source": [
    "%%bash\n",
    "export PATH=$PATH:ccloud\n",
    "ccloud schema-registry schema describe 100001 --api-key 275FNQY4DKTHSFOJ --api-secret cmyhWIsCVaLXouCHKDpSNl0ciFmTkeJyePYjXNY6E/WTqvX0hk2MhVC4PW4BqdY+"
   ]
  },
  {
   "cell_type": "code",
   "execution_count": 16,
   "id": "mechanical-disabled",
   "metadata": {},
   "outputs": [
    {
     "name": "stdout",
     "output_type": "stream",
     "text": [
      "      Subject      \n",
      "+-----------------+\n",
      "  employees-value  \n"
     ]
    }
   ],
   "source": [
    "%%bash\n",
    "export PATH=$PATH:ccloud\n",
    "ccloud schema-registry subject list --api-key 275FNQY4DKTHSFOJ --api-secret cmyhWIsCVaLXouCHKDpSNl0ciFmTkeJyePYjXNY6E/WTqvX0hk2MhVC4PW4BqdY+"
   ]
  },
  {
   "cell_type": "code",
   "execution_count": 14,
   "id": "quiet-grocery",
   "metadata": {},
   "outputs": [
    {
     "name": "stdout",
     "output_type": "stream",
     "text": [
      "  Version  \n",
      "+---------+\n",
      "        1  \n"
     ]
    }
   ],
   "source": [
    "%%bash\n",
    "export PATH=$PATH:ccloud\n",
    "ccloud schema-registry subject describe employees-value --api-key 275FNQY4DKTHSFOJ --api-secret cmyhWIsCVaLXouCHKDpSNl0ciFmTkeJyePYjXNY6E/WTqvX0hk2MhVC4PW4BqdY+"
   ]
  },
  {
   "cell_type": "code",
   "execution_count": null,
   "id": "trying-texture",
   "metadata": {},
   "outputs": [],
   "source": []
  }
 ],
 "metadata": {
  "kernelspec": {
   "display_name": "Python 3",
   "language": "python",
   "name": "python3"
  },
  "language_info": {
   "codemirror_mode": {
    "name": "ipython",
    "version": 3
   },
   "file_extension": ".py",
   "mimetype": "text/x-python",
   "name": "python",
   "nbconvert_exporter": "python",
   "pygments_lexer": "ipython3",
   "version": "3.8.8"
  }
 },
 "nbformat": 4,
 "nbformat_minor": 5
}
