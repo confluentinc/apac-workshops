{
 "cells": [
  {
   "cell_type": "markdown",
   "id": "moderate-annual",
   "metadata": {},
   "source": [
    "# Get CCloud CLI"
   ]
  },
  {
   "cell_type": "code",
   "execution_count": null,
   "id": "editorial-mirror",
   "metadata": {},
   "outputs": [],
   "source": [
    "%%bash\n",
    "wget https://s3-us-west-2.amazonaws.com/confluent.cloud/ccloud-cli/archives/latest/ccloud_latest_linux_amd64.tar.gz\n",
    "tar -xzvf ccloud_latest_linux_amd64.tar.gz"
   ]
  },
  {
   "cell_type": "code",
   "execution_count": 1,
   "id": "nominated-blond",
   "metadata": {},
   "outputs": [
    {
     "name": "stderr",
     "output_type": "stream",
     "text": [
      "Manage your Confluent Cloud.\n",
      "\n",
      "Usage:\n",
      "  ccloud [command]\n",
      "\n",
      "Available Commands:\n",
      "  admin             Perform administrative tasks for the current organization.\n",
      "  api-key           Manage the API keys.\n",
      "  audit-log         Manage audit log configuration.\n",
      "  completion        Print shell completion code.\n",
      "  config            Modify the CLI configuration.\n",
      "  connector         Manage Kafka Connect.\n",
      "  connector-catalog Catalog of connectors and their configurations.\n",
      "  environment       Manage and select ccloud environments.\n",
      "  feedback          Submit feedback about the Confluent Cloud CLI.\n",
      "  help              Help about any command\n",
      "  init              Initialize a context.\n",
      "  kafka             Manage Apache Kafka.\n",
      "  ksql              Manage ksqlDB applications.\n",
      "  login             Log in to Confluent Cloud.\n",
      "  logout            Log out of Confluent Cloud.\n",
      "  price             See Confluent Cloud pricing information.\n",
      "  prompt            Print Confluent Cloud CLI context for your terminal prompt.\n",
      "  schema-registry   Manage Schema Registry.\n",
      "  service-account   Manage service accounts.\n",
      "  shell             Run the ccloud shell.\n",
      "  signup            Sign up for Confluent Cloud.\n",
      "  update            Update the Confluent Cloud CLI.\n",
      "  version           Show version of the Confluent Cloud CLI.\n",
      "\n",
      "Flags:\n",
      "  -h, --help            Show help for this command.\n",
      "  -v, --verbose count   Increase verbosity (-v for warn, -vv for info, -vvv for debug, -vvvv for trace).\n",
      "      --version         Show version of the Confluent Cloud CLI.\n",
      "\n",
      "Use \"ccloud [command] --help\" for more information about a command.\n",
      "\n",
      "Did you know you can use the `ccloud feedback` command to send the team feedback?\n",
      "Let us know if the CLI is meeting your needs, or what we can do to improve it.\n"
     ]
    }
   ],
   "source": [
    "%%bash\n",
    "export PATH=$PATH:ccloud\n",
    "ccloud --help"
   ]
  },
  {
   "cell_type": "markdown",
   "id": "brief-monkey",
   "metadata": {},
   "source": [
    "# Prepare CCloud Environment"
   ]
  },
  {
   "cell_type": "code",
   "execution_count": 2,
   "id": "personal-safety",
   "metadata": {},
   "outputs": [
    {
     "name": "stdout",
     "output_type": "stream",
     "text": [
      "Logged in as \"naveen.nandan+gcp@confluent.io\".\n",
      "Using environment \"env-676q8\" (\"default\").\n"
     ]
    }
   ],
   "source": [
    "%%bash\n",
    "export CCLOUD_EMAIL=naveen.nandan+gcp@confluent.io\n",
    "export CCLOUD_PASSWORD=C0nflu3nt@gcp\n",
    "export PATH=$PATH:ccloud\n",
    "ccloud login"
   ]
  },
  {
   "cell_type": "code",
   "execution_count": 40,
   "id": "military-confidence",
   "metadata": {},
   "outputs": [
    {
     "name": "stdout",
     "output_type": "stream",
     "text": [
      "+------------------+--------------+\n",
      "| Environment Name | bni-batch-1a |\n",
      "| Id               | env-p5xpm    |\n",
      "+------------------+--------------+\n"
     ]
    }
   ],
   "source": [
    "%%bash\n",
    "export PATH=$PATH:ccloud\n",
    "ccloud environment create batch-1a"
   ]
  },
  {
   "cell_type": "code",
   "execution_count": 41,
   "id": "affiliated-stuart",
   "metadata": {},
   "outputs": [
    {
     "name": "stdout",
     "output_type": "stream",
     "text": [
      "      Id      |     Name      \n",
      "+-------------+--------------+\n",
      "  * env-676q8 | default       \n",
      "    env-p5xpm | bni-batch-1a  \n"
     ]
    }
   ],
   "source": [
    "%%bash\n",
    "export PATH=$PATH:ccloud\n",
    "ccloud environment list"
   ]
  },
  {
   "cell_type": "markdown",
   "id": "mobile-quebec",
   "metadata": {},
   "source": [
    "# Provision CCloud Clusters\n",
    "\n",
    "Note: 20 clusters per environment. 10 API keys per user. Use additional users to provision for more participants."
   ]
  },
  {
   "cell_type": "code",
   "execution_count": 42,
   "id": "experienced-connection",
   "metadata": {},
   "outputs": [
    {
     "name": "stdout",
     "output_type": "stream",
     "text": [
      "Now using \"env-p5xpm\" as the default (active) environment.\n",
      "+--------------+---------------------------------------------------------------+\n",
      "| Id           | lkc-9orv0                                                     |\n",
      "| Name         | participant1                                                  |\n",
      "| Type         | BASIC                                                         |\n",
      "| Ingress      |                                                           100 |\n",
      "| Egress       |                                                           100 |\n",
      "| Storage      |                                                          5000 |\n",
      "| Provider     | gcp                                                           |\n",
      "| Availability | single-zone                                                   |\n",
      "| Region       | asia-southeast2                                               |\n",
      "| Status       | UP                                                            |\n",
      "| Endpoint     | SASL_SSL://pkc-ew3qg.asia-southeast2.gcp.confluent.cloud:9092 |\n",
      "| ApiEndpoint  | https://pkac-4kmdv.asia-southeast2.gcp.confluent.cloud        |\n",
      "+--------------+---------------------------------------------------------------+\n",
      "+--------------+---------------------------------------------------------------+\n",
      "| Id           | lkc-rgom7                                                     |\n",
      "| Name         | participant2                                                  |\n",
      "| Type         | BASIC                                                         |\n",
      "| Ingress      |                                                           100 |\n",
      "| Egress       |                                                           100 |\n",
      "| Storage      |                                                          5000 |\n",
      "| Provider     | gcp                                                           |\n",
      "| Availability | single-zone                                                   |\n",
      "| Region       | asia-southeast2                                               |\n",
      "| Status       | UP                                                            |\n",
      "| Endpoint     | SASL_SSL://pkc-ew3qg.asia-southeast2.gcp.confluent.cloud:9092 |\n",
      "| ApiEndpoint  | https://pkac-4kmdv.asia-southeast2.gcp.confluent.cloud        |\n",
      "+--------------+---------------------------------------------------------------+\n",
      "+--------------+---------------------------------------------------------------+\n",
      "| Id           | lkc-0k7z9                                                     |\n",
      "| Name         | participant3                                                  |\n",
      "| Type         | BASIC                                                         |\n",
      "| Ingress      |                                                           100 |\n",
      "| Egress       |                                                           100 |\n",
      "| Storage      |                                                          5000 |\n",
      "| Provider     | gcp                                                           |\n",
      "| Availability | single-zone                                                   |\n",
      "| Region       | asia-southeast2                                               |\n",
      "| Status       | UP                                                            |\n",
      "| Endpoint     | SASL_SSL://pkc-ew3qg.asia-southeast2.gcp.confluent.cloud:9092 |\n",
      "| ApiEndpoint  | https://pkac-4kmdv.asia-southeast2.gcp.confluent.cloud        |\n",
      "+--------------+---------------------------------------------------------------+\n",
      "+--------------+---------------------------------------------------------------+\n",
      "| Id           | lkc-mnym2                                                     |\n",
      "| Name         | participant4                                                  |\n",
      "| Type         | BASIC                                                         |\n",
      "| Ingress      |                                                           100 |\n",
      "| Egress       |                                                           100 |\n",
      "| Storage      |                                                          5000 |\n",
      "| Provider     | gcp                                                           |\n",
      "| Availability | single-zone                                                   |\n",
      "| Region       | asia-southeast2                                               |\n",
      "| Status       | UP                                                            |\n",
      "| Endpoint     | SASL_SSL://pkc-ew3qg.asia-southeast2.gcp.confluent.cloud:9092 |\n",
      "| ApiEndpoint  | https://pkac-4kmdv.asia-southeast2.gcp.confluent.cloud        |\n",
      "+--------------+---------------------------------------------------------------+\n",
      "+--------------+---------------------------------------------------------------+\n",
      "| Id           | lkc-w0x3j                                                     |\n",
      "| Name         | participant5                                                  |\n",
      "| Type         | BASIC                                                         |\n",
      "| Ingress      |                                                           100 |\n",
      "| Egress       |                                                           100 |\n",
      "| Storage      |                                                          5000 |\n",
      "| Provider     | gcp                                                           |\n",
      "| Availability | single-zone                                                   |\n",
      "| Region       | asia-southeast2                                               |\n",
      "| Status       | UP                                                            |\n",
      "| Endpoint     | SASL_SSL://pkc-ew3qg.asia-southeast2.gcp.confluent.cloud:9092 |\n",
      "| ApiEndpoint  | https://pkac-4kmdv.asia-southeast2.gcp.confluent.cloud        |\n",
      "+--------------+---------------------------------------------------------------+\n",
      "+--------------+---------------------------------------------------------------+\n",
      "| Id           | lkc-53vxz                                                     |\n",
      "| Name         | participant6                                                  |\n",
      "| Type         | BASIC                                                         |\n",
      "| Ingress      |                                                           100 |\n",
      "| Egress       |                                                           100 |\n",
      "| Storage      |                                                          5000 |\n",
      "| Provider     | gcp                                                           |\n",
      "| Availability | single-zone                                                   |\n",
      "| Region       | asia-southeast2                                               |\n",
      "| Status       | UP                                                            |\n",
      "| Endpoint     | SASL_SSL://pkc-ew3qg.asia-southeast2.gcp.confluent.cloud:9092 |\n",
      "| ApiEndpoint  | https://pkac-4kmdv.asia-southeast2.gcp.confluent.cloud        |\n",
      "+--------------+---------------------------------------------------------------+\n",
      "+--------------+---------------------------------------------------------------+\n",
      "| Id           | lkc-6nx96                                                     |\n",
      "| Name         | participant7                                                  |\n",
      "| Type         | BASIC                                                         |\n",
      "| Ingress      |                                                           100 |\n",
      "| Egress       |                                                           100 |\n",
      "| Storage      |                                                          5000 |\n",
      "| Provider     | gcp                                                           |\n",
      "| Availability | single-zone                                                   |\n",
      "| Region       | asia-southeast2                                               |\n",
      "| Status       | UP                                                            |\n",
      "| Endpoint     | SASL_SSL://pkc-ew3qg.asia-southeast2.gcp.confluent.cloud:9092 |\n",
      "| ApiEndpoint  | https://pkac-4kmdv.asia-southeast2.gcp.confluent.cloud        |\n",
      "+--------------+---------------------------------------------------------------+\n",
      "+--------------+---------------------------------------------------------------+\n",
      "| Id           | lkc-3kgpm                                                     |\n",
      "| Name         | participant8                                                  |\n",
      "| Type         | BASIC                                                         |\n",
      "| Ingress      |                                                           100 |\n",
      "| Egress       |                                                           100 |\n",
      "| Storage      |                                                          5000 |\n",
      "| Provider     | gcp                                                           |\n",
      "| Availability | single-zone                                                   |\n",
      "| Region       | asia-southeast2                                               |\n",
      "| Status       | UP                                                            |\n",
      "| Endpoint     | SASL_SSL://pkc-ew3qg.asia-southeast2.gcp.confluent.cloud:9092 |\n",
      "| ApiEndpoint  | https://pkac-4kmdv.asia-southeast2.gcp.confluent.cloud        |\n",
      "+--------------+---------------------------------------------------------------+\n",
      "+--------------+---------------------------------------------------------------+\n",
      "| Id           | lkc-1koq3                                                     |\n",
      "| Name         | participant9                                                  |\n",
      "| Type         | BASIC                                                         |\n",
      "| Ingress      |                                                           100 |\n",
      "| Egress       |                                                           100 |\n",
      "| Storage      |                                                          5000 |\n",
      "| Provider     | gcp                                                           |\n",
      "| Availability | single-zone                                                   |\n",
      "| Region       | asia-southeast2                                               |\n",
      "| Status       | UP                                                            |\n",
      "| Endpoint     | SASL_SSL://pkc-ew3qg.asia-southeast2.gcp.confluent.cloud:9092 |\n",
      "| ApiEndpoint  | https://pkac-4kmdv.asia-southeast2.gcp.confluent.cloud        |\n",
      "+--------------+---------------------------------------------------------------+\n",
      "+--------------+---------------------------------------------------------------+\n",
      "| Id           | lkc-o7nwp                                                     |\n",
      "| Name         | participant10                                                 |\n",
      "| Type         | BASIC                                                         |\n",
      "| Ingress      |                                                           100 |\n",
      "| Egress       |                                                           100 |\n",
      "| Storage      |                                                          5000 |\n",
      "| Provider     | gcp                                                           |\n",
      "| Availability | single-zone                                                   |\n",
      "| Region       | asia-southeast2                                               |\n",
      "| Status       | UP                                                            |\n",
      "| Endpoint     | SASL_SSL://pkc-ew3qg.asia-southeast2.gcp.confluent.cloud:9092 |\n",
      "| ApiEndpoint  | https://pkac-4kmdv.asia-southeast2.gcp.confluent.cloud        |\n",
      "+--------------+---------------------------------------------------------------+\n"
     ]
    },
    {
     "name": "stderr",
     "output_type": "stream",
     "text": [
      "It may take up to 5 minutes for the Kafka cluster to be ready.\n",
      "It may take up to 5 minutes for the Kafka cluster to be ready.\n",
      "It may take up to 5 minutes for the Kafka cluster to be ready.\n",
      "It may take up to 5 minutes for the Kafka cluster to be ready.\n",
      "It may take up to 5 minutes for the Kafka cluster to be ready.\n",
      "It may take up to 5 minutes for the Kafka cluster to be ready.\n",
      "It may take up to 5 minutes for the Kafka cluster to be ready.\n",
      "It may take up to 5 minutes for the Kafka cluster to be ready.\n",
      "It may take up to 5 minutes for the Kafka cluster to be ready.\n",
      "It may take up to 5 minutes for the Kafka cluster to be ready.\n"
     ]
    }
   ],
   "source": [
    "%%bash\n",
    "export PATH=$PATH:ccloud\n",
    "\n",
    "ccloud environment use env-p5xpm\n",
    "\n",
    "ccloud kafka cluster create participant1 --cloud gcp --region asia-southeast2 --type basic\n",
    "ccloud kafka cluster create participant2 --cloud gcp --region asia-southeast2 --type basic\n",
    "ccloud kafka cluster create participant3 --cloud gcp --region asia-southeast2 --type basic\n",
    "ccloud kafka cluster create participant4 --cloud gcp --region asia-southeast2 --type basic\n",
    "ccloud kafka cluster create participant5 --cloud gcp --region asia-southeast2 --type basic\n",
    "ccloud kafka cluster create participant6 --cloud gcp --region asia-southeast2 --type basic\n",
    "ccloud kafka cluster create participant7 --cloud gcp --region asia-southeast2 --type basic\n",
    "ccloud kafka cluster create participant8 --cloud gcp --region asia-southeast2 --type basic\n",
    "ccloud kafka cluster create participant9 --cloud gcp --region asia-southeast2 --type basic\n",
    "ccloud kafka cluster create participant10 --cloud gcp --region asia-southeast2 --type basic"
   ]
  },
  {
   "cell_type": "code",
   "execution_count": 43,
   "id": "sacred-lexington",
   "metadata": {},
   "outputs": [
    {
     "name": "stdout",
     "output_type": "stream",
     "text": [
      "Now using \"env-p5xpm\" as the default (active) environment.\n",
      "      Id      |     Name      | Type  | Provider |     Region      | Availability | Status  \n",
      "+-------------+---------------+-------+----------+-----------------+--------------+--------+\n",
      "    lkc-o7nwp | participant10 | BASIC | gcp      | asia-southeast2 | single-zone  | UP      \n",
      "    lkc-1koq3 | participant9  | BASIC | gcp      | asia-southeast2 | single-zone  | UP      \n",
      "    lkc-3kgpm | participant8  | BASIC | gcp      | asia-southeast2 | single-zone  | UP      \n",
      "    lkc-6nx96 | participant7  | BASIC | gcp      | asia-southeast2 | single-zone  | UP      \n",
      "    lkc-53vxz | participant6  | BASIC | gcp      | asia-southeast2 | single-zone  | UP      \n",
      "    lkc-w0x3j | participant5  | BASIC | gcp      | asia-southeast2 | single-zone  | UP      \n",
      "    lkc-mnym2 | participant4  | BASIC | gcp      | asia-southeast2 | single-zone  | UP      \n",
      "    lkc-0k7z9 | participant3  | BASIC | gcp      | asia-southeast2 | single-zone  | UP      \n",
      "    lkc-rgom7 | participant2  | BASIC | gcp      | asia-southeast2 | single-zone  | UP      \n",
      "    lkc-9orv0 | participant1  | BASIC | gcp      | asia-southeast2 | single-zone  | UP      \n"
     ]
    }
   ],
   "source": [
    "%%bash\n",
    "export PATH=$PATH:ccloud\n",
    "ccloud environment use env-p5xpm\n",
    "ccloud kafka cluster list"
   ]
  },
  {
   "cell_type": "markdown",
   "id": "corresponding-savings",
   "metadata": {},
   "source": [
    "# Create API Keys"
   ]
  },
  {
   "cell_type": "code",
   "execution_count": 44,
   "id": "alive-stamp",
   "metadata": {},
   "outputs": [
    {
     "name": "stdout",
     "output_type": "stream",
     "text": [
      "Now using \"env-p5xpm\" as the default (active) environment.\n",
      "+---------+------------------------------------------------------------------+\n",
      "| API Key | MKMSDJS7GRABS5TL                                                 |\n",
      "| Secret  | zCihIQsr5OoKgpY/3MreID+gnLoilUF7UQ1lLj0s9Cy2kS9GhE5DrDWfsl1thnrk |\n",
      "+---------+------------------------------------------------------------------+\n",
      "+---------+------------------------------------------------------------------+\n",
      "| API Key | KUX5NCABUVNODFRW                                                 |\n",
      "| Secret  | qhwtk2DOIEVEVSw+5QpytwEI1YpZXwurQ/Oo7RNfndB50H+ccGnTeZtFxHlcrM/P |\n",
      "+---------+------------------------------------------------------------------+\n",
      "+---------+------------------------------------------------------------------+\n",
      "| API Key | OG6BNHREFZYGKRU6                                                 |\n",
      "| Secret  | hFvNGx34bx0mYbUkDEqTd1D2Dg32R37R1PzGEfcYPf5z8VIH9Af/TVuOQxp1wcjc |\n",
      "+---------+------------------------------------------------------------------+\n",
      "+---------+------------------------------------------------------------------+\n",
      "| API Key | IMW6QB33JXDBGBDJ                                                 |\n",
      "| Secret  | +bzZ+jQgytWrkjWR7VfsRsXPpsk8FwmlUEqtD9f69tUfBDm+PVEcEwotCh9bDkAz |\n",
      "+---------+------------------------------------------------------------------+\n",
      "+---------+------------------------------------------------------------------+\n",
      "| API Key | MO25YBSAYOJKKPHQ                                                 |\n",
      "| Secret  | Wcw5/XPRWX9cmKa7nGqMcSqNEL2rHRqoubF85DABKO+/O8QtRvrQnOK/QiHO8hG4 |\n",
      "+---------+------------------------------------------------------------------+\n",
      "+---------+------------------------------------------------------------------+\n",
      "| API Key | LXVZT5DFS27LTF3G                                                 |\n",
      "| Secret  | 8BdDCgzED+V56NY16E9pvpLRQpiEUGyDtCdrtiI5FvuPrfzwVgLpnpXXjcsp5y/4 |\n",
      "+---------+------------------------------------------------------------------+\n",
      "+---------+------------------------------------------------------------------+\n",
      "| API Key | TYHIVA3OO7E4YFPV                                                 |\n",
      "| Secret  | GeL3VWF5ZVi8+zM3iI+draRGbAfOZTkfN0ye4DGIhNihrlmo1Vrv7ifd4uMhj1gH |\n",
      "+---------+------------------------------------------------------------------+\n",
      "+---------+------------------------------------------------------------------+\n",
      "| API Key | FZ3JMXDLY236L23Z                                                 |\n",
      "| Secret  | Uzi4kUxyImllZe5Q5xnBJk3qE7NYVFXq+g/vHJJbdzHzfE1AEgRx7GcL2PB9U2qj |\n",
      "+---------+------------------------------------------------------------------+\n",
      "+---------+------------------------------------------------------------------+\n",
      "| API Key | WK3LX5K5DAX7CMUF                                                 |\n",
      "| Secret  | YFx8r2fhbSV48EW+ufvAZvz6k+fPxkIRgnQGh6te2CePBQlSWN+CSlSRweZ3xAJx |\n",
      "+---------+------------------------------------------------------------------+\n",
      "+---------+------------------------------------------------------------------+\n",
      "| API Key | R6G66ER6R3VATLIU                                                 |\n",
      "| Secret  | HdisZaFjAXLNM+vccJTx/GAEi3dKWB0ereayL0+BcD6HpkJX2FQwupJmO1zqCg2V |\n",
      "+---------+------------------------------------------------------------------+\n"
     ]
    },
    {
     "name": "stderr",
     "output_type": "stream",
     "text": [
      "It may take a couple of minutes for the API key to be ready.\n",
      "Save the API key and secret. The secret is not retrievable later.\n",
      "It may take a couple of minutes for the API key to be ready.\n",
      "Save the API key and secret. The secret is not retrievable later.\n",
      "It may take a couple of minutes for the API key to be ready.\n",
      "Save the API key and secret. The secret is not retrievable later.\n",
      "It may take a couple of minutes for the API key to be ready.\n",
      "Save the API key and secret. The secret is not retrievable later.\n",
      "It may take a couple of minutes for the API key to be ready.\n",
      "Save the API key and secret. The secret is not retrievable later.\n",
      "It may take a couple of minutes for the API key to be ready.\n",
      "Save the API key and secret. The secret is not retrievable later.\n",
      "It may take a couple of minutes for the API key to be ready.\n",
      "Save the API key and secret. The secret is not retrievable later.\n",
      "It may take a couple of minutes for the API key to be ready.\n",
      "Save the API key and secret. The secret is not retrievable later.\n",
      "It may take a couple of minutes for the API key to be ready.\n",
      "Save the API key and secret. The secret is not retrievable later.\n",
      "It may take a couple of minutes for the API key to be ready.\n",
      "Save the API key and secret. The secret is not retrievable later.\n"
     ]
    }
   ],
   "source": [
    "%%bash\n",
    "export PATH=$PATH:ccloud\n",
    "ccloud environment use env-p5xpm\n",
    "ccloud api-key create --resource lkc-o7nwp\n",
    "ccloud api-key create --resource lkc-1koq3\n",
    "ccloud api-key create --resource lkc-3kgpm\n",
    "ccloud api-key create --resource lkc-6nx96\n",
    "ccloud api-key create --resource lkc-53vxz\n",
    "ccloud api-key create --resource lkc-w0x3j\n",
    "ccloud api-key create --resource lkc-mnym2\n",
    "ccloud api-key create --resource lkc-0k7z9\n",
    "ccloud api-key create --resource lkc-rgom7\n",
    "ccloud api-key create --resource lkc-9orv0"
   ]
  },
  {
   "cell_type": "markdown",
   "id": "minute-university",
   "metadata": {},
   "source": [
    "# Enable Schema Registry"
   ]
  },
  {
   "cell_type": "code",
   "execution_count": 2,
   "id": "impossible-hollywood",
   "metadata": {},
   "outputs": [
    {
     "name": "stdout",
     "output_type": "stream",
     "text": [
      "Now using \"env-p5xpm\" as the default (active) environment.\n",
      "+--------------+-------------------------------------------------------------+\n",
      "| Id           | lsrc-mny02                                                  |\n",
      "| Endpoint URL | https://psrc-41vyv.australia-southeast1.gcp.confluent.cloud |\n",
      "+--------------+-------------------------------------------------------------+\n"
     ]
    }
   ],
   "source": [
    "%%bash\n",
    "export PATH=$PATH:ccloud\n",
    "\n",
    "ccloud environment use env-p5xpm\n",
    "ccloud schema-registry cluster enable --cloud gcp --geo apac"
   ]
  },
  {
   "cell_type": "markdown",
   "id": "inclusive-minority",
   "metadata": {},
   "source": [
    "# Cleanup CCloud Environment"
   ]
  },
  {
   "cell_type": "code",
   "execution_count": 6,
   "id": "imposed-cooking",
   "metadata": {},
   "outputs": [
    {
     "name": "stderr",
     "output_type": "stream",
     "text": [
      "Deleted environment \"env-9gyvm\".\n"
     ]
    }
   ],
   "source": [
    "%%bash\n",
    "export PATH=$PATH:ccloud\n",
    "ccloud environment delete env-9gyvm"
   ]
  },
  {
   "cell_type": "code",
   "execution_count": null,
   "id": "prompt-adult",
   "metadata": {},
   "outputs": [],
   "source": []
  }
 ],
 "metadata": {
  "kernelspec": {
   "display_name": "Python 3",
   "language": "python",
   "name": "python3"
  },
  "language_info": {
   "codemirror_mode": {
    "name": "ipython",
    "version": 3
   },
   "file_extension": ".py",
   "mimetype": "text/x-python",
   "name": "python",
   "nbconvert_exporter": "python",
   "pygments_lexer": "ipython3",
   "version": "3.8.8"
  }
 },
 "nbformat": 4,
 "nbformat_minor": 5
}
